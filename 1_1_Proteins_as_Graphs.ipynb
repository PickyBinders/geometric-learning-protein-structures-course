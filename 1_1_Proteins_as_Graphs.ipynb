{
 "cells": [
  {
   "cell_type": "markdown",
   "metadata": {},
   "source": [
    "## Data Preparation\n",
    "\n",
    "The [graphein](https://graphein.ai/) library provides functionality for producing a number of types of graph-based representations of proteins. We'll use it to construct graphs from protein structures, extract interface residues, and to featurise the nodes and edges of the graph"
   ]
  },
  {
   "cell_type": "code",
   "execution_count": null,
   "metadata": {},
   "outputs": [],
   "source": [
    "from graphein.protein.config import ProteinGraphConfig\n",
    "from graphein.protein.graphs import construct_graph\n",
    "from graphein.protein.features.nodes import amino_acid as graphein_nodes\n",
    "from graphein.protein import edges as graphein_edges\n",
    "from graphein.protein.subgraphs import extract_subgraph\n",
    "from graphein.protein.visualisation import plotly_protein_structure_graph\n",
    "from functools import partial"
   ]
  },
  {
   "cell_type": "markdown",
   "metadata": {},
   "source": [
    "Here we use the node features implemented in `graphein.protein.features.nodes.amino_acid`, but there's many more kinds of node features available in the library (see the full [API](https://graphein.ai/modules/graphein.protein.html#features))"
   ]
  },
  {
   "cell_type": "code",
   "execution_count": null,
   "metadata": {},
   "outputs": [],
   "source": [
    "graph_config = ProteinGraphConfig(\n",
    "    node_metadata_functions = [graphein_nodes.amino_acid_one_hot, graphein_nodes.meiler_embedding],\n",
    "    edge_construction_functions = [graphein_edges.add_peptide_bonds, partial(graphein_edges.add_distance_threshold, long_interaction_threshold=2)],\n",
    ")"
   ]
  },
  {
   "cell_type": "code",
   "execution_count": null,
   "metadata": {},
   "outputs": [],
   "source": [
    "graph = construct_graph(pdb_code='1A0G', config=graph_config, verbose=False)"
   ]
  },
  {
   "cell_type": "code",
   "execution_count": null,
   "metadata": {},
   "outputs": [],
   "source": [
    "p = plotly_protein_structure_graph(\n",
    "    graph,\n",
    "    colour_edges_by=\"kind\",\n",
    "    colour_nodes_by=\"degree\",\n",
    "    label_node_ids=False,\n",
    "    plot_title=\"Peptide backbone graph. Nodes coloured by degree.\",\n",
    "    node_size_multiplier=1\n",
    "    )\n",
    "p.show()"
   ]
  },
  {
   "cell_type": "code",
   "execution_count": null,
   "metadata": {},
   "outputs": [],
   "source": [
    "interface_residues = set()\n",
    "for source, target, kind in graph.edges(data=True):\n",
    "    if 'distance_threshold' in kind['kind'] and source.split(\":\")[0] == \"A\" and target.split(\":\")[0] != \"A\":\n",
    "        interface_residues.add(source)\n",
    "\n",
    "chain_subgraph = extract_subgraph(graph, chains=\"A\")"
   ]
  },
  {
   "cell_type": "code",
   "execution_count": null,
   "metadata": {},
   "outputs": [],
   "source": [
    "interface_residues"
   ]
  },
  {
   "cell_type": "code",
   "execution_count": null,
   "metadata": {},
   "outputs": [],
   "source": [
    "p = plotly_protein_structure_graph(\n",
    "    chain_subgraph,\n",
    "    colour_edges_by=\"kind\",\n",
    "    colour_nodes_by=\"degree\",\n",
    "    label_node_ids=False,\n",
    "    plot_title=\"Peptide backbone graph. Nodes coloured by degree.\",\n",
    "    node_size_multiplier=1\n",
    "    )\n",
    "p.show()"
   ]
  },
  {
   "cell_type": "code",
   "execution_count": null,
   "metadata": {},
   "outputs": [],
   "source": [
    "# TODO: wrap into a function load_graph(pdb_id, chain) and add to src/dataloader.py"
   ]
  },
  {
   "cell_type": "code",
   "execution_count": null,
   "metadata": {},
   "outputs": [],
   "source": [
    "def load_graph(pdb_id, chain):\n",
    "    graph_config = ProteinGraphConfig(\n",
    "        node_metadata_functions = [graphein_nodes.amino_acid_one_hot, graphein_nodes.meiler_embedding],\n",
    "        edge_construction_functions = [graphein_edges.add_peptide_bonds, partial(graphein_edges.add_distance_threshold, long_interaction_threshold=2)],\n",
    "    )\n",
    "    graph = construct_graph(pdb_code=pdb_id, config=graph_config, verbose=False)\n",
    "    interface_residues = set()\n",
    "    for source, target, kind in graph.edges(data=True):\n",
    "        if 'distance_threshold' in kind['kind'] and source.split(\":\")[0] == chain and target.split(\":\")[0] != chain:\n",
    "            interface_residues.add(source)\n",
    "    return extract_subgraph(graph, chains=chain), interface_residues"
   ]
  }
 ],
 "metadata": {
  "language_info": {
   "name": "python"
  }
 },
 "nbformat": 4,
 "nbformat_minor": 2
}
