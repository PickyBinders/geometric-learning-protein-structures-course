{
 "cells": [
  {
   "cell_type": "markdown",
   "metadata": {},
   "source": [
    "# Geometric Deep Learning for Protein Structure Data"
   ]
  },
  {
   "cell_type": "markdown",
   "metadata": {},
   "source": [
    "## Objectives\n",
    "To develop a code-base for exploring, training and evaluating graph deep learning models using protein structures as input and residue-level prediction outputs.\n",
    "\n",
    "\n",
    "## Task and Dataset\n",
    "Given a protein structure, predict for each residue whether or not it belongs to a protein-protein interface. The dataset (in `data/interface_labels.txt`) is extracted from the [MaSIF](https://www.nature.com/articles/s41592-019-0666-6) paper. Each line is a PDB ID and two chain IDs of chains which are in contact. We'll use these to extract residues at the interface.\n",
    "\n",
    "## Quick biological background\n",
    "There are different structural and thermodynamic aspects that drive protein-protein interactions.  \n",
    "In thermodynamics, the spontaneous binding is assessed by calculating the change in Gibbs free energy (ΔG). This binding free energy can be parsed into enthalpic and entropic contributions with the fundamental equation: ΔG = ΔH − TΔS. \n",
    "There are multiple parameters, which we need to take into account, when analyzing protein-protein binding:\n",
    "1. Residue-residue and residue-solvent interactions (contribution of enthalpy)  \n",
    "2. Loss of translational and rotational freedom of proteins upon complex formation (contribution of enthropy)  \n",
    "3. Conformational changes of proteins upon binding (contribution of enthropy)\n",
    "4. Desolvation and release of solvent molecules upon binding (contribution of enthropy)\n",
    "...\n",
    "\n",
    "<div style=\"text-align: center; margin-right: 0; margin-left: auto; margin-right: auto;\">\n",
    "    <img src=\"https://media.springernature.com/full/springer-static/image/art%3A10.1038%2Fpj.2014.33/MediaObjects/41428_2014_Article_BFpj201433_Fig1_HTML.jpg?as=webp\" style=\"width: 500px;\"/>\n",
    "</div>\n",
    "\n",
    "## Steps\n",
    "1. Data Preparation\n",
    "    - Constructing graphs from protein structures (Notebook 1_1)\n",
    "    - Exploring pytorch geometric graphs and constructing dataset (Notebook 1_2)\n",
    "    - Load and batch data for training (Notebook 1_3)\n",
    "2. Model Development\n",
    "    - Explore off-the-shelf graph-based models (Notebook 2_1)\n",
    "    - Add custom layers and losses (Notebook 2_2)\n",
    "    - Implement training and validation (Notebook 2_2)\n",
    "3. Model Evaluation\n",
    "    - Log, visualise and track model performance (Notebook 2_1 and Notebook 2_2)\n",
    "    - Save and load trained models and checkpoints \n",
    "    - Make and save predictions\n",
    "    - Constructing configuration files and run compare models with different parameters (Notebook 2_3)"
   ]
  },
  {
   "cell_type": "code",
   "execution_count": null,
   "metadata": {
    "vscode": {
     "languageId": "plaintext"
    }
   },
   "outputs": [],
   "source": []
  },
  {
   "cell_type": "markdown",
   "metadata": {},
   "source": []
  }
 ],
 "metadata": {
  "language_info": {
   "name": "python"
  }
 },
 "nbformat": 4,
 "nbformat_minor": 2
}
