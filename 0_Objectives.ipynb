{
 "cells": [
  {
   "cell_type": "markdown",
   "metadata": {},
   "source": [
    "# Geometric Deep Learning for Protein Structure Data"
   ]
  },
  {
   "cell_type": "markdown",
   "metadata": {},
   "source": [
    "## Objectives\n",
    "To develop a code-base for exploring, training and evaluating graph deep learning models using protein structures as input and residue-level prediction outputs.\n",
    "\n",
    "\n",
    "## Task and Dataset\n",
    "Given a protein structure, predict for each residue whether or not it belongs to a protein-protein interface. The dataset (in `data/interface_labels.txt`) is extracted from the [MaSIF](https://www.nature.com/articles/s41592-019-0666-6) paper. Each line is a PDB ID and two chain IDs of chains which are in contact. We'll use these to extract residues at the interface. \n",
    "\n",
    "## Steps\n",
    "1. Data Preparation\n",
    "    - Construct graphs from protein structures\n",
    "    - Explore different featurisations\n",
    "    - Load and batch data for training\n",
    "2. Model Development\n",
    "    - Explore off-the-shelf graph-based models\n",
    "    - Add custom layers and losses\n",
    "    - Implement training and validation\n",
    "3. Model Evaluation\n",
    "    - Log, visualise and track model performance\n",
    "    - Save and load trained models and checkpoints\n",
    "    - Make and save predictions"
   ]
  },
  {
   "cell_type": "markdown",
   "metadata": {},
   "source": []
  }
 ],
 "metadata": {
  "language_info": {
   "name": "python"
  }
 },
 "nbformat": 4,
 "nbformat_minor": 2
}
