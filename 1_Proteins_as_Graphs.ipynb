{
 "cells": [
  {
   "cell_type": "code",
   "execution_count": null,
   "metadata": {
    "editable": true,
    "slideshow": {
     "slide_type": ""
    },
    "tags": []
   },
   "outputs": [],
   "source": [
    "# !pip install --use-pep517 \"graphein[extras]\" lightning torch torch-geometric tensorboard nbformat \"jsonargparse[signatures]\" ipywidgets tabulate"
   ]
  },
  {
   "cell_type": "code",
   "execution_count": null,
   "metadata": {
    "editable": true,
    "slideshow": {
     "slide_type": ""
    },
    "tags": []
   },
   "outputs": [],
   "source": [
    "import graphein\n",
    "graphein.verbose(enabled=False)\n",
    "from graphein.protein.config import ProteinGraphConfig\n",
    "from graphein.protein.graphs import construct_graph\n",
    "from graphein.protein.features.nodes import amino_acid as graphein_nodes\n",
    "from graphein.protein import edges as graphein_edges\n",
    "from graphein.protein.subgraphs import extract_subgraph\n",
    "from graphein.protein.visualisation import plotly_protein_structure_graph\n",
    "from functools import partial\n",
    "from matplotlib import colormaps"
   ]
  },
  {
   "cell_type": "markdown",
   "metadata": {},
   "source": [
    "## Converting proteins to featurized graphs\n",
    "\n",
    "The [graphein](https://graphein.ai/) library provides functionality for producing a number of types of graph-based representations of proteins. We'll use it to construct [NetworkX](https://github.com/networkx/networkx) graphs from protein structures, extract interface residues, and to featurise the nodes and edges of the graph"
   ]
  },
  {
   "cell_type": "markdown",
   "metadata": {},
   "source": [
    "Here we use the node features implemented in `graphein.protein.features.nodes.amino_acid`, but there's many more kinds of node features available in the library (see the full [API](https://graphein.ai/modules/graphein.protein.html#features))"
   ]
  },
  {
   "cell_type": "code",
   "execution_count": null,
   "metadata": {
    "editable": true,
    "slideshow": {
     "slide_type": ""
    },
    "tags": []
   },
   "outputs": [],
   "source": [
    "graph_config = ProteinGraphConfig(\n",
    "    node_metadata_functions = [graphein_nodes.amino_acid_one_hot, graphein_nodes.meiler_embedding],\n",
    "    edge_construction_functions = [graphein_edges.add_peptide_bonds, partial(graphein_edges.add_distance_threshold, \n",
    "                                                                             threshold=8., \n",
    "                                                                             long_interaction_threshold=2)]\n",
    ")"
   ]
  },
  {
   "cell_type": "code",
   "execution_count": null,
   "metadata": {
    "editable": true,
    "slideshow": {
     "slide_type": ""
    },
    "tags": []
   },
   "outputs": [],
   "source": [
    "graph = construct_graph(pdb_code='1A0G', config=graph_config)"
   ]
  },
  {
   "cell_type": "markdown",
   "metadata": {},
   "source": [
    "Now we have a graph object consisting of nodes and edges, each associated with the attributes we've specified"
   ]
  },
  {
   "cell_type": "code",
   "execution_count": null,
   "metadata": {
    "editable": true,
    "slideshow": {
     "slide_type": ""
    },
    "tags": []
   },
   "outputs": [],
   "source": [
    "i = 0\n",
    "for (node, node_data) in graph.nodes(data=True):\n",
    "  print(\"Node:\", node)\n",
    "  print(\"Node attributes:\", node_data)\n",
    "  if i > 5:\n",
    "    break\n",
    "  i += 1"
   ]
  },
  {
   "cell_type": "code",
   "execution_count": null,
   "metadata": {},
   "outputs": [],
   "source": [
    "i = 0\n",
    "for (start_node, end_node, edge_data) in graph.edges(data=True):\n",
    "  print(f\"Edge between {start_node} and {end_node}\")\n",
    "  print(\"Edge attributes:\", edge_data)\n",
    "  if i > 5:\n",
    "    break\n",
    "  i += 1"
   ]
  },
  {
   "cell_type": "code",
   "execution_count": null,
   "metadata": {
    "editable": true,
    "slideshow": {
     "slide_type": ""
    },
    "tags": []
   },
   "outputs": [],
   "source": [
    "p = plotly_protein_structure_graph(\n",
    "    graph,\n",
    "    colour_edges_by=\"kind\",\n",
    "    colour_nodes_by='chain_id',\n",
    "    label_node_ids=False,\n",
    "    plot_title=\"Peptide backbone graph with distance connections.Nodes coloured by chain.\",\n",
    "    node_size_multiplier=1\n",
    "    )\n",
    "p.show()"
   ]
  },
  {
   "cell_type": "markdown",
   "metadata": {},
   "source": [
    "We can extract interface residues from this graph by checking for edges between chains:"
   ]
  },
  {
   "cell_type": "code",
   "execution_count": null,
   "metadata": {
    "editable": true,
    "slideshow": {
     "slide_type": ""
    },
    "tags": []
   },
   "outputs": [],
   "source": [
    "interface_residues = set()\n",
    "for source, target, kind in graph.edges(data=True):\n",
    "    if 'distance_threshold' in kind['kind']:\n",
    "        if source.split(\":\")[0] == \"A\" and target.split(\":\")[0] != \"A\":\n",
    "            interface_residues.add(source)\n",
    "        elif target.split(\":\")[0] == \"A\" and source.split(\":\")[0] != \"A\":\n",
    "            interface_residues.add(target)\n",
    "interface_residues"
   ]
  },
  {
   "cell_type": "markdown",
   "metadata": {
    "editable": true,
    "slideshow": {
     "slide_type": ""
    },
    "tags": []
   },
   "source": [
    "This information can be added to the graph as an `interface_label` node feature:"
   ]
  },
  {
   "cell_type": "code",
   "execution_count": null,
   "metadata": {
    "editable": true,
    "slideshow": {
     "slide_type": ""
    },
    "tags": []
   },
   "outputs": [],
   "source": [
    "for node, data in graph.nodes(data=True):\n",
    "  if node in interface_residues:\n",
    "    data['interface_label'] = 1\n",
    "  else:\n",
    "    data['interface_label'] = 0"
   ]
  },
  {
   "cell_type": "markdown",
   "metadata": {},
   "source": [
    "Let's see where the interface is for this example:"
   ]
  },
  {
   "cell_type": "code",
   "execution_count": null,
   "metadata": {
    "editable": true,
    "slideshow": {
     "slide_type": ""
    },
    "tags": []
   },
   "outputs": [],
   "source": [
    "p = plotly_protein_structure_graph(\n",
    "    graph,\n",
    "    colour_edges_by='kind',\n",
    "    colour_nodes_by='interface_label',\n",
    "    label_node_ids=False,\n",
    "    edge_color_map=colormaps['Pastel2'],\n",
    "    plot_title=\"Peptide backbone graph with distance connections. Nodes coloured by interface labels.\",\n",
    "    node_size_multiplier=1\n",
    "    )\n",
    "p.show()"
   ]
  },
  {
   "cell_type": "markdown",
   "metadata": {},
   "source": [
    "Since our task is to predict interface residues given just one input chain, we'll extract the subgraph for the chain of interest:"
   ]
  },
  {
   "cell_type": "code",
   "execution_count": null,
   "metadata": {
    "editable": true,
    "slideshow": {
     "slide_type": ""
    },
    "tags": []
   },
   "outputs": [],
   "source": [
    "chain_subgraph = extract_subgraph(graph, chains=\"A\")\n",
    "\n",
    "p = plotly_protein_structure_graph(\n",
    "    chain_subgraph,\n",
    "    colour_edges_by=\"kind\",\n",
    "    colour_nodes_by=\"interface_label\",\n",
    "    label_node_ids=False,\n",
    "    edge_color_map=colormaps['Pastel2'],\n",
    "    plot_title=\"Peptide backbone graph. Nodes coloured by interface_label.\",\n",
    "    node_size_multiplier=1\n",
    "    )\n",
    "p.show()"
   ]
  },
  {
   "cell_type": "markdown",
   "metadata": {},
   "source": [
    "We put all this together in a function to use in the later notebooks. Feel free to add other node features, edge types, and edge features to your function."
   ]
  },
  {
   "cell_type": "code",
   "execution_count": null,
   "metadata": {
    "editable": true,
    "slideshow": {
     "slide_type": ""
    },
    "tags": []
   },
   "outputs": [],
   "source": [
    "def load_graph(pdb_id, chain):\n",
    "    graph_config = ProteinGraphConfig(\n",
    "        node_metadata_functions = [graphein_nodes.amino_acid_one_hot, graphein_nodes.meiler_embedding],\n",
    "        edge_construction_functions = [graphein_edges.add_peptide_bonds, \n",
    "                                       partial(graphein_edges.add_distance_threshold, \n",
    "                                               threshold=8.,\n",
    "                                               long_interaction_threshold=2)],\n",
    "    )\n",
    "    graph = construct_graph(pdb_code=pdb_id, config=graph_config, verbose=False)\n",
    "    interface_residues = set()\n",
    "    for source, target, kind in graph.edges(data=True):\n",
    "        c1, c2 = source.split(\":\")[0], target.split(\":\")[0]\n",
    "        if 'distance_threshold' in kind['kind']:\n",
    "            if c1 == chain and c2 != chain:\n",
    "                interface_residues.add(source)\n",
    "            elif c2 == chain and c1 != chain:\n",
    "                interface_residues.add(target)\n",
    "    graph = extract_subgraph(graph, chains=chain)\n",
    "    for node, data in graph.nodes(data=True):\n",
    "        if node in interface_residues:\n",
    "            data['interface_label'] = 1\n",
    "        else:\n",
    "            data['interface_label'] = 0\n",
    "    return graph"
   ]
  },
  {
   "cell_type": "markdown",
   "metadata": {},
   "source": [
    "## Bonus\n",
    "\n",
    "\n",
    "We can also add our own edge functions or node features that are not implemented in the graphein API. For example, we can calculate the solvent accessible surface area (SASA) for each residue and include it in as a node feature."
   ]
  },
  {
   "cell_type": "code",
   "execution_count": null,
   "metadata": {},
   "outputs": [],
   "source": [
    "from Bio.PDB.mmtf import MMTFParser\n",
    "from Bio.PDB.SASA import ShrakeRupley\n",
    "import warnings\n",
    "warnings.filterwarnings(\"ignore\") # to ignore warnings when parsing pdb structures\n",
    "\n",
    "def add_sasa(pdb_id, graph):\n",
    "    struct = MMTFParser.get_structure_from_url(pdb_id)\n",
    "    sr = ShrakeRupley()\n",
    "    sr.compute(struct, level=\"R\") # residue level\n",
    "    for _, data in graph.nodes(data=True):\n",
    "        # add SASA to node features\n",
    "        data['sasa'] = struct[0][data['chain_id']][data['residue_number']].sasa\n",
    "    return graph\n",
    "\n",
    "graph = load_graph(\"1A0G\", \"A\")\n",
    "graph = add_sasa(\"1A0G\", graph)"
   ]
  },
  {
   "cell_type": "code",
   "execution_count": null,
   "metadata": {},
   "outputs": [],
   "source": [
    "i = 0\n",
    "for (node, node_data) in graph.nodes(data=True):\n",
    "    print(\"Node:\", node)\n",
    "    print(\"Node attributes:\", node_data)\n",
    "    if i > 5:\n",
    "        break\n",
    "    i += 1"
   ]
  },
  {
   "cell_type": "code",
   "execution_count": null,
   "metadata": {},
   "outputs": [],
   "source": [
    "import matplotlib.pyplot as plt\n",
    "import seaborn as sns\n",
    "\n",
    "sasa, interface_labels = [], []\n",
    "for (node, node_data) in graph.nodes(data=True):\n",
    "    sasa.append(node_data['sasa'])\n",
    "    interface_labels.append(node_data['interface_label'])\n",
    "data = {\n",
    "    \"sasa\": sasa,\n",
    "    \"interface_labels\": interface_labels\n",
    "}\n",
    "\n",
    "plt.figure(figsize=(14, 8))\n",
    "sns.violinplot(x=\"interface_labels\", y=\"sasa\", data=data)\n",
    "plt.title(\"SASA between interface and non-interface residues\")\n",
    "plt.tight_layout()\n",
    "plt.show()"
   ]
  },
  {
   "cell_type": "markdown",
   "metadata": {},
   "source": [
    "What other node or edge features would you like to include in your graph?"
   ]
  }
 ],
 "metadata": {
  "kernelspec": {
   "display_name": "Python 3 (ipykernel)",
   "language": "python",
   "name": "python3"
  },
  "language_info": {
   "codemirror_mode": {
    "name": "ipython",
    "version": 3
   },
   "file_extension": ".py",
   "mimetype": "text/x-python",
   "name": "python",
   "nbconvert_exporter": "python",
   "pygments_lexer": "ipython3",
   "version": "3.8.18"
  }
 },
 "nbformat": 4,
 "nbformat_minor": 4
}
